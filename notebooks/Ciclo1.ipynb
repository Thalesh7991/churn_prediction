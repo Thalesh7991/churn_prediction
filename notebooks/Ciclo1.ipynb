{
 "cells": [
  {
   "cell_type": "markdown",
   "metadata": {},
   "source": [
    "# Objetivo do Projeto"
   ]
  },
  {
   "cell_type": "markdown",
   "metadata": {},
   "source": [
    "- Desenvolver um modelo de Classificação capaz de prever se um cliente vai entrar em churn ou não.\n",
    "\n",
    "- Etapas do Projeto:\n",
    "    - Coleta de Dados\n",
    "    - Análise Descritiva dos Dados\n",
    "    - Análise Exploratória de Dados\n",
    "    - Limpeza de Dados\n",
    "    - Feature Engineering\n",
    "    - Modelagem de Dados\n",
    "    - Treinamento de Modelos\n",
    "    - Avaliação de Modelos\n",
    "    - Registro MLFLOW\n",
    "    - Calcular ROI do Projeto\n",
    "    - Construção de uma API"
   ]
  },
  {
   "cell_type": "markdown",
   "metadata": {},
   "source": [
    "| Coluna             | Descrição                                                                 |\n",
    "|--------------------|---------------------------------------------------------------------------|\n",
    "| `RowNumber`        | Número da linha (apenas um índice)                                        |\n",
    "| `CustomerId`       | ID único do cliente                                                       |\n",
    "| `Surname`          | Sobrenome do cliente                                                      |\n",
    "| `CreditScore`      | Pontuação de crédito (quanto maior, melhor o perfil de crédito)           |\n",
    "| `Geography`        | País de origem do cliente (`France`, `Spain`, `Germany`)                  |\n",
    "| `Gender`           | Gênero (`Male`/`Female`)                                                  |\n",
    "| `Age`              | Idade do cliente                                                          |\n",
    "| `Tenure`           | Quantos anos o cliente está no banco                                      |\n",
    "| `Balance`          | Saldo da conta bancária                                                   |\n",
    "| `NumOfProducts`    | Número de produtos adquiridos (cartões, investimentos, etc.)              |\n",
    "| `HasCrCard`        | Possui cartão de crédito? (`1` = sim, `0` = não)                          |\n",
    "| `IsActiveMember`   | É um cliente ativo? (`1` = sim, `0` = não)                                |\n",
    "| `EstimatedSalary`  | Salário estimado                                                          |\n",
    "| `Exited`           | **Target** — Saiu do banco? (`1` = sim, `0` = não)                        |\n"
   ]
  },
  {
   "cell_type": "markdown",
   "metadata": {},
   "source": [
    "# Imports"
   ]
  },
  {
   "cell_type": "code",
   "execution_count": 33,
   "metadata": {},
   "outputs": [],
   "source": [
    "import numpy as np\n",
    "import pandas as pd\n",
    "import mlflow\n",
    "\n",
    "from sklearn.metrics import precision_score, recall_score, accuracy_score, f1_score, confusion_matrix, ConfusionMatrixDisplay\n",
    "from sklearn.model_selection import train_test_split\n",
    "from sklearn.ensemble import RandomForestClassifier\n",
    "from sklearn.linear_model import LogisticRegression\n",
    "\n",
    "import matplotlib.pyplot as plt"
   ]
  },
  {
   "cell_type": "code",
   "execution_count": 34,
   "metadata": {},
   "outputs": [],
   "source": [
    "pd.set_option('display.float_format', '{:.2f}'.format)"
   ]
  },
  {
   "cell_type": "code",
   "execution_count": 35,
   "metadata": {},
   "outputs": [
    {
     "data": {
      "text/plain": [
       "<Experiment: artifact_location='mlflow-artifacts:/207252348785056863', creation_time=1752069687363, experiment_id='207252348785056863', last_update_time=1752069687363, lifecycle_stage='active', name='churn-model', tags={}>"
      ]
     },
     "execution_count": 35,
     "metadata": {},
     "output_type": "execute_result"
    }
   ],
   "source": [
    "mlflow.set_tracking_uri(\"http://127.0.0.1:5000/\")\n",
    "mlflow.set_experiment(experiment_id=207252348785056863)"
   ]
  },
  {
   "cell_type": "code",
   "execution_count": 36,
   "metadata": {},
   "outputs": [],
   "source": [
    "ciclo = 'Ciclo1'"
   ]
  },
  {
   "cell_type": "markdown",
   "metadata": {},
   "source": [
    "# Helper Functions"
   ]
  },
  {
   "cell_type": "code",
   "execution_count": 37,
   "metadata": {},
   "outputs": [],
   "source": [
    "def train_and_evaluate(model, X_train, y_train, X_test, y_test):\n",
    "    \"\"\"\n",
    "    Função genérica para treinar e avaliar qualquer modelo do scikit-learn\n",
    "    \n",
    "    Args:\n",
    "        model: Modelo do scikit-learn (RandomForest, LogisticRegression, etc.)\n",
    "        X_train, y_train: Dados de treino\n",
    "        X_test, y_test: Dados de teste\n",
    "    \n",
    "    Returns:\n",
    "        dict: Dicionário com modelo treinado, predições e métricas\n",
    "    \"\"\"\n",
    "    # Treinamento\n",
    "    model.fit(X_train, y_train)\n",
    "    \n",
    "    # Predição\n",
    "    y_pred_train = model.predict(X_train)\n",
    "    y_pred_test = model.predict(X_test)\n",
    "    \n",
    "    # Métricas treino\n",
    "    metrics_train = {\n",
    "        \"precision\": precision_score(y_train, y_pred_train),\n",
    "        \"recall\": recall_score(y_train, y_pred_train),\n",
    "        \"accuracy\": accuracy_score(y_train, y_pred_train),\n",
    "        \"f1\": f1_score(y_train, y_pred_train)\n",
    "    }\n",
    "    \n",
    "    # Métricas teste\n",
    "    metrics_test = {\n",
    "        \"precision\": precision_score(y_test, y_pred_test),\n",
    "        \"recall\": recall_score(y_test, y_pred_test),\n",
    "        \"accuracy\": accuracy_score(y_test, y_pred_test),\n",
    "        \"f1\": f1_score(y_test, y_pred_test)\n",
    "    }\n",
    "    \n",
    "    # Retorna tudo que você precisa\n",
    "    return {\n",
    "        \"model\": model,\n",
    "        \"y_pred_train\": y_pred_train,\n",
    "        \"y_pred_test\": y_pred_test,\n",
    "        \"metrics_train\": metrics_train,\n",
    "        \"metrics_test\": metrics_test\n",
    "    }\n",
    "\n",
    "\n",
    "def track_model(model, X_train, y_train, X_test, y_test, model_name=\"\"):\n",
    "    with mlflow.start_run(run_name=model_name):\n",
    "        mlflow.sklearn.autolog()\n",
    "        model.fit(X_train, y_train)\n",
    "        y_pred_train = model.predict(X_train)\n",
    "        y_pred = model.predict(X_test)\n",
    "\n",
    "        # Métricas de treino\n",
    "        precision_train = precision_score(y_train, y_pred_train)\n",
    "        recall_train = recall_score(y_train, y_pred_train)\n",
    "        acc_train = accuracy_score(y_train, y_pred_train)\n",
    "        f1_train = f1_score(y_train, y_pred_train)\n",
    "\n",
    "        # Métricas de teste\n",
    "        precision = precision_score(y_test, y_pred)\n",
    "        recall = recall_score(y_test, y_pred)\n",
    "        acc = accuracy_score(y_test, y_pred)\n",
    "        f1 = f1_score(y_test, y_pred)\n",
    "\n",
    "        # Log manual das métricas\n",
    "        mlflow.log_metric(\"precision_train\", precision_train)\n",
    "        mlflow.log_metric(\"recall_train\", recall_train)\n",
    "        mlflow.log_metric(\"accuracy_train\", acc_train)\n",
    "        mlflow.log_metric(\"f1_train\", f1_train)\n",
    "        mlflow.log_metric(\"precision_test\", precision)\n",
    "        mlflow.log_metric(\"recall_test\", recall)\n",
    "        mlflow.log_metric(\"accuracy_test\", acc)\n",
    "        mlflow.log_metric(\"f1_test\", f1)\n",
    "\n",
    "        print(f\"Modelo: {model_name}\")\n",
    "        print('Precision Test:', precision)\n",
    "        print('Recall Test:', recall)\n",
    "        print('Acc Test:', acc)\n",
    "        print('F1 Test:', f1)\n",
    "\n",
    "\n",
    "def track_model(result, model_name=\"\"):\n",
    "    with mlflow.start_run(run_name=model_name):\n",
    "        mlflow.sklearn.autolog()\n",
    "        mlflow.log_metric(\"precision_train\", result[\"metrics_train\"][\"precision\"])\n",
    "        mlflow.log_metric(\"recall_train\", result[\"metrics_train\"][\"recall\"])\n",
    "        mlflow.log_metric(\"accuracy_train\", result[\"metrics_train\"][\"accuracy\"])\n",
    "        mlflow.log_metric(\"f1_train\", result[\"metrics_train\"][\"f1\"])\n",
    "        mlflow.log_metric(\"precision_test\", result[\"metrics_test\"][\"precision\"])\n",
    "        mlflow.log_metric(\"recall_test\", result[\"metrics_test\"][\"recall\"])\n",
    "        mlflow.log_metric(\"accuracy_test\", result[\"metrics_test\"][\"accuracy\"])\n",
    "        mlflow.log_metric(\"f1_test\", result[\"metrics_test\"][\"f1\"])\n",
    "        print(f\"Tracking done for {model_name}\")\n",
    "\n",
    "\n",
    "\n",
    "def plot_confusion_matrix(y_true, y_pred, model_name=\"Modelo\"):\n",
    "    \"\"\"\n",
    "    Plota a matriz de confusão para um modelo de classificação.\n",
    "\n",
    "    Args:\n",
    "        y_true: Valores reais (array ou Series)\n",
    "        y_pred: Valores previstos pelo modelo (array ou Series)\n",
    "        model_name: Nome do modelo (string)\n",
    "    \"\"\"\n",
    "    cm = confusion_matrix(y_true, y_pred)\n",
    "    disp = ConfusionMatrixDisplay(confusion_matrix=cm)\n",
    "    disp.plot(cmap=plt.cm.Blues)\n",
    "    plt.title(f\"Matriz de Confusão - {model_name}\")\n",
    "    plt.show()"
   ]
  },
  {
   "cell_type": "markdown",
   "metadata": {},
   "source": [
    "# Data Load"
   ]
  },
  {
   "cell_type": "code",
   "execution_count": 38,
   "metadata": {},
   "outputs": [],
   "source": [
    "df = pd.read_csv('../data/rclientes.csv')"
   ]
  },
  {
   "cell_type": "markdown",
   "metadata": {},
   "source": [
    "# Descrição dos Dados"
   ]
  },
  {
   "cell_type": "code",
   "execution_count": 39,
   "metadata": {},
   "outputs": [],
   "source": [
    "df1 = df.copy()"
   ]
  },
  {
   "cell_type": "markdown",
   "metadata": {},
   "source": [
    "## 1.1 Dimensão dos Dados"
   ]
  },
  {
   "cell_type": "code",
   "execution_count": 40,
   "metadata": {},
   "outputs": [
    {
     "name": "stdout",
     "output_type": "stream",
     "text": [
      "Quantidade de Linhas: 10000\n",
      "Quantidade de Colunas: 14\n"
     ]
    }
   ],
   "source": [
    "print('Quantidade de Linhas: {}'.format(df1.shape[0]))\n",
    "print('Quantidade de Colunas: {}'.format(df1.shape[1]))"
   ]
  },
  {
   "cell_type": "markdown",
   "metadata": {},
   "source": [
    "## 1.2 Tipo dos Dados"
   ]
  },
  {
   "cell_type": "code",
   "execution_count": 41,
   "metadata": {},
   "outputs": [
    {
     "data": {
      "text/plain": [
       "RowNumber            int64\n",
       "CustomerId           int64\n",
       "Surname             object\n",
       "CreditScore          int64\n",
       "Geography           object\n",
       "Gender              object\n",
       "Age                  int64\n",
       "Tenure               int64\n",
       "Balance            float64\n",
       "NumOfProducts        int64\n",
       "HasCrCard            int64\n",
       "IsActiveMember       int64\n",
       "EstimatedSalary    float64\n",
       "Exited               int64\n",
       "dtype: object"
      ]
     },
     "execution_count": 41,
     "metadata": {},
     "output_type": "execute_result"
    }
   ],
   "source": [
    "df1.dtypes"
   ]
  },
  {
   "cell_type": "markdown",
   "metadata": {},
   "source": [
    "## 1.3 Check Na"
   ]
  },
  {
   "cell_type": "code",
   "execution_count": 42,
   "metadata": {},
   "outputs": [
    {
     "data": {
      "text/plain": [
       "RowNumber          0\n",
       "CustomerId         0\n",
       "Surname            0\n",
       "CreditScore        0\n",
       "Geography          0\n",
       "Gender             0\n",
       "Age                0\n",
       "Tenure             0\n",
       "Balance            0\n",
       "NumOfProducts      0\n",
       "HasCrCard          0\n",
       "IsActiveMember     0\n",
       "EstimatedSalary    0\n",
       "Exited             0\n",
       "dtype: int64"
      ]
     },
     "execution_count": 42,
     "metadata": {},
     "output_type": "execute_result"
    }
   ],
   "source": [
    "df1.isna().sum()"
   ]
  },
  {
   "cell_type": "markdown",
   "metadata": {},
   "source": [
    "## 1.4 Estatística Descritiva"
   ]
  },
  {
   "cell_type": "code",
   "execution_count": 43,
   "metadata": {},
   "outputs": [],
   "source": [
    "num_attributes = df1.select_dtypes( include=['int64', 'float64'] )"
   ]
  },
  {
   "cell_type": "code",
   "execution_count": 44,
   "metadata": {},
   "outputs": [
    {
     "data": {
      "text/html": [
       "<div>\n",
       "<style scoped>\n",
       "    .dataframe tbody tr th:only-of-type {\n",
       "        vertical-align: middle;\n",
       "    }\n",
       "\n",
       "    .dataframe tbody tr th {\n",
       "        vertical-align: top;\n",
       "    }\n",
       "\n",
       "    .dataframe thead th {\n",
       "        text-align: right;\n",
       "    }\n",
       "</style>\n",
       "<table border=\"1\" class=\"dataframe\">\n",
       "  <thead>\n",
       "    <tr style=\"text-align: right;\">\n",
       "      <th></th>\n",
       "      <th>attributes</th>\n",
       "      <th>min</th>\n",
       "      <th>max</th>\n",
       "      <th>range</th>\n",
       "      <th>mean</th>\n",
       "      <th>median</th>\n",
       "      <th>std</th>\n",
       "      <th>skew</th>\n",
       "      <th>kurtosis</th>\n",
       "    </tr>\n",
       "  </thead>\n",
       "  <tbody>\n",
       "    <tr>\n",
       "      <th>0</th>\n",
       "      <td>RowNumber</td>\n",
       "      <td>1.00</td>\n",
       "      <td>10000.00</td>\n",
       "      <td>9999.00</td>\n",
       "      <td>5000.50</td>\n",
       "      <td>5000.50</td>\n",
       "      <td>2886.75</td>\n",
       "      <td>0.00</td>\n",
       "      <td>-1.20</td>\n",
       "    </tr>\n",
       "    <tr>\n",
       "      <th>1</th>\n",
       "      <td>CustomerId</td>\n",
       "      <td>15565701.00</td>\n",
       "      <td>15815690.00</td>\n",
       "      <td>249989.00</td>\n",
       "      <td>15690940.57</td>\n",
       "      <td>15690738.00</td>\n",
       "      <td>71932.59</td>\n",
       "      <td>0.00</td>\n",
       "      <td>-1.20</td>\n",
       "    </tr>\n",
       "    <tr>\n",
       "      <th>2</th>\n",
       "      <td>CreditScore</td>\n",
       "      <td>350.00</td>\n",
       "      <td>850.00</td>\n",
       "      <td>500.00</td>\n",
       "      <td>650.53</td>\n",
       "      <td>652.00</td>\n",
       "      <td>96.65</td>\n",
       "      <td>-0.07</td>\n",
       "      <td>-0.43</td>\n",
       "    </tr>\n",
       "    <tr>\n",
       "      <th>3</th>\n",
       "      <td>Age</td>\n",
       "      <td>18.00</td>\n",
       "      <td>92.00</td>\n",
       "      <td>74.00</td>\n",
       "      <td>38.92</td>\n",
       "      <td>37.00</td>\n",
       "      <td>10.49</td>\n",
       "      <td>1.01</td>\n",
       "      <td>1.40</td>\n",
       "    </tr>\n",
       "    <tr>\n",
       "      <th>4</th>\n",
       "      <td>Tenure</td>\n",
       "      <td>0.00</td>\n",
       "      <td>10.00</td>\n",
       "      <td>10.00</td>\n",
       "      <td>5.01</td>\n",
       "      <td>5.00</td>\n",
       "      <td>2.89</td>\n",
       "      <td>0.01</td>\n",
       "      <td>-1.17</td>\n",
       "    </tr>\n",
       "    <tr>\n",
       "      <th>5</th>\n",
       "      <td>Balance</td>\n",
       "      <td>0.00</td>\n",
       "      <td>250898.09</td>\n",
       "      <td>250898.09</td>\n",
       "      <td>76485.89</td>\n",
       "      <td>97198.54</td>\n",
       "      <td>62394.29</td>\n",
       "      <td>-0.14</td>\n",
       "      <td>-1.49</td>\n",
       "    </tr>\n",
       "    <tr>\n",
       "      <th>6</th>\n",
       "      <td>NumOfProducts</td>\n",
       "      <td>1.00</td>\n",
       "      <td>4.00</td>\n",
       "      <td>3.00</td>\n",
       "      <td>1.53</td>\n",
       "      <td>1.00</td>\n",
       "      <td>0.58</td>\n",
       "      <td>0.75</td>\n",
       "      <td>0.58</td>\n",
       "    </tr>\n",
       "    <tr>\n",
       "      <th>7</th>\n",
       "      <td>HasCrCard</td>\n",
       "      <td>0.00</td>\n",
       "      <td>1.00</td>\n",
       "      <td>1.00</td>\n",
       "      <td>0.71</td>\n",
       "      <td>1.00</td>\n",
       "      <td>0.46</td>\n",
       "      <td>-0.90</td>\n",
       "      <td>-1.19</td>\n",
       "    </tr>\n",
       "    <tr>\n",
       "      <th>8</th>\n",
       "      <td>IsActiveMember</td>\n",
       "      <td>0.00</td>\n",
       "      <td>1.00</td>\n",
       "      <td>1.00</td>\n",
       "      <td>0.52</td>\n",
       "      <td>1.00</td>\n",
       "      <td>0.50</td>\n",
       "      <td>-0.06</td>\n",
       "      <td>-2.00</td>\n",
       "    </tr>\n",
       "    <tr>\n",
       "      <th>9</th>\n",
       "      <td>EstimatedSalary</td>\n",
       "      <td>11.58</td>\n",
       "      <td>199992.48</td>\n",
       "      <td>199980.90</td>\n",
       "      <td>100090.24</td>\n",
       "      <td>100193.91</td>\n",
       "      <td>57507.62</td>\n",
       "      <td>0.00</td>\n",
       "      <td>-1.18</td>\n",
       "    </tr>\n",
       "    <tr>\n",
       "      <th>10</th>\n",
       "      <td>Exited</td>\n",
       "      <td>0.00</td>\n",
       "      <td>1.00</td>\n",
       "      <td>1.00</td>\n",
       "      <td>0.20</td>\n",
       "      <td>0.00</td>\n",
       "      <td>0.40</td>\n",
       "      <td>1.47</td>\n",
       "      <td>0.17</td>\n",
       "    </tr>\n",
       "  </tbody>\n",
       "</table>\n",
       "</div>"
      ],
      "text/plain": [
       "         attributes         min         max     range        mean      median  \\\n",
       "0         RowNumber        1.00    10000.00   9999.00     5000.50     5000.50   \n",
       "1        CustomerId 15565701.00 15815690.00 249989.00 15690940.57 15690738.00   \n",
       "2       CreditScore      350.00      850.00    500.00      650.53      652.00   \n",
       "3               Age       18.00       92.00     74.00       38.92       37.00   \n",
       "4            Tenure        0.00       10.00     10.00        5.01        5.00   \n",
       "5           Balance        0.00   250898.09 250898.09    76485.89    97198.54   \n",
       "6     NumOfProducts        1.00        4.00      3.00        1.53        1.00   \n",
       "7         HasCrCard        0.00        1.00      1.00        0.71        1.00   \n",
       "8    IsActiveMember        0.00        1.00      1.00        0.52        1.00   \n",
       "9   EstimatedSalary       11.58   199992.48 199980.90   100090.24   100193.91   \n",
       "10           Exited        0.00        1.00      1.00        0.20        0.00   \n",
       "\n",
       "        std  skew  kurtosis  \n",
       "0   2886.75  0.00     -1.20  \n",
       "1  71932.59  0.00     -1.20  \n",
       "2     96.65 -0.07     -0.43  \n",
       "3     10.49  1.01      1.40  \n",
       "4      2.89  0.01     -1.17  \n",
       "5  62394.29 -0.14     -1.49  \n",
       "6      0.58  0.75      0.58  \n",
       "7      0.46 -0.90     -1.19  \n",
       "8      0.50 -0.06     -2.00  \n",
       "9  57507.62  0.00     -1.18  \n",
       "10     0.40  1.47      0.17  "
      ]
     },
     "execution_count": 44,
     "metadata": {},
     "output_type": "execute_result"
    }
   ],
   "source": [
    "# Central Tendency - mean, meadina \n",
    "ct1 = pd.DataFrame( num_attributes.apply( np.mean ) ).T\n",
    "ct2 = pd.DataFrame( num_attributes.apply( np.median ) ).T\n",
    "\n",
    "# dispersion - std, min, max, range, skew, kurtosis\n",
    "d1 = pd.DataFrame( num_attributes.apply( np.std ) ).T \n",
    "d2 = pd.DataFrame( num_attributes.apply( min ) ).T \n",
    "d3 = pd.DataFrame( num_attributes.apply( max ) ).T \n",
    "d4 = pd.DataFrame( num_attributes.apply( lambda x: x.max() - x.min() ) ).T \n",
    "d5 = pd.DataFrame( num_attributes.apply( lambda x: x.skew() ) ).T \n",
    "d6 = pd.DataFrame( num_attributes.apply( lambda x: x.kurtosis() ) ).T \n",
    "\n",
    "# concatenar\n",
    "m = pd.concat( [d2, d3, d4, ct1, ct2, d1, d5, d6] ).T.reset_index()\n",
    "m.columns = ['attributes', 'min', 'max', 'range', 'mean', 'median', 'std', 'skew', 'kurtosis']\n",
    "m"
   ]
  },
  {
   "cell_type": "code",
   "execution_count": 45,
   "metadata": {},
   "outputs": [
    {
     "data": {
      "text/plain": [
       "Exited\n",
       "0    7963\n",
       "1    2037\n",
       "Name: count, dtype: int64"
      ]
     },
     "execution_count": 45,
     "metadata": {},
     "output_type": "execute_result"
    }
   ],
   "source": [
    "df1['Exited'].value_counts()"
   ]
  },
  {
   "cell_type": "markdown",
   "metadata": {},
   "source": [
    "# 2.0 Feature Engineering"
   ]
  },
  {
   "cell_type": "code",
   "execution_count": 46,
   "metadata": {},
   "outputs": [],
   "source": [
    "df2 = df1.copy()"
   ]
  },
  {
   "cell_type": "markdown",
   "metadata": {},
   "source": [
    "# 3.0 Limpeza de Dados"
   ]
  },
  {
   "cell_type": "code",
   "execution_count": 47,
   "metadata": {},
   "outputs": [],
   "source": [
    "df3 = df2.copy()"
   ]
  },
  {
   "cell_type": "code",
   "execution_count": 48,
   "metadata": {},
   "outputs": [
    {
     "data": {
      "text/html": [
       "<div>\n",
       "<style scoped>\n",
       "    .dataframe tbody tr th:only-of-type {\n",
       "        vertical-align: middle;\n",
       "    }\n",
       "\n",
       "    .dataframe tbody tr th {\n",
       "        vertical-align: top;\n",
       "    }\n",
       "\n",
       "    .dataframe thead th {\n",
       "        text-align: right;\n",
       "    }\n",
       "</style>\n",
       "<table border=\"1\" class=\"dataframe\">\n",
       "  <thead>\n",
       "    <tr style=\"text-align: right;\">\n",
       "      <th></th>\n",
       "      <th>CreditScore</th>\n",
       "      <th>Age</th>\n",
       "      <th>Tenure</th>\n",
       "      <th>Balance</th>\n",
       "      <th>NumOfProducts</th>\n",
       "      <th>HasCrCard</th>\n",
       "      <th>IsActiveMember</th>\n",
       "      <th>EstimatedSalary</th>\n",
       "      <th>Exited</th>\n",
       "    </tr>\n",
       "  </thead>\n",
       "  <tbody>\n",
       "    <tr>\n",
       "      <th>0</th>\n",
       "      <td>619</td>\n",
       "      <td>42</td>\n",
       "      <td>2</td>\n",
       "      <td>0.00</td>\n",
       "      <td>1</td>\n",
       "      <td>1</td>\n",
       "      <td>1</td>\n",
       "      <td>101348.88</td>\n",
       "      <td>1</td>\n",
       "    </tr>\n",
       "    <tr>\n",
       "      <th>1</th>\n",
       "      <td>608</td>\n",
       "      <td>41</td>\n",
       "      <td>1</td>\n",
       "      <td>83807.86</td>\n",
       "      <td>1</td>\n",
       "      <td>0</td>\n",
       "      <td>1</td>\n",
       "      <td>112542.58</td>\n",
       "      <td>0</td>\n",
       "    </tr>\n",
       "    <tr>\n",
       "      <th>2</th>\n",
       "      <td>502</td>\n",
       "      <td>42</td>\n",
       "      <td>8</td>\n",
       "      <td>159660.80</td>\n",
       "      <td>3</td>\n",
       "      <td>1</td>\n",
       "      <td>0</td>\n",
       "      <td>113931.57</td>\n",
       "      <td>1</td>\n",
       "    </tr>\n",
       "    <tr>\n",
       "      <th>3</th>\n",
       "      <td>699</td>\n",
       "      <td>39</td>\n",
       "      <td>1</td>\n",
       "      <td>0.00</td>\n",
       "      <td>2</td>\n",
       "      <td>0</td>\n",
       "      <td>0</td>\n",
       "      <td>93826.63</td>\n",
       "      <td>0</td>\n",
       "    </tr>\n",
       "    <tr>\n",
       "      <th>4</th>\n",
       "      <td>850</td>\n",
       "      <td>43</td>\n",
       "      <td>2</td>\n",
       "      <td>125510.82</td>\n",
       "      <td>1</td>\n",
       "      <td>1</td>\n",
       "      <td>1</td>\n",
       "      <td>79084.10</td>\n",
       "      <td>0</td>\n",
       "    </tr>\n",
       "  </tbody>\n",
       "</table>\n",
       "</div>"
      ],
      "text/plain": [
       "   CreditScore  Age  Tenure   Balance  NumOfProducts  HasCrCard  \\\n",
       "0          619   42       2      0.00              1          1   \n",
       "1          608   41       1  83807.86              1          0   \n",
       "2          502   42       8 159660.80              3          1   \n",
       "3          699   39       1      0.00              2          0   \n",
       "4          850   43       2 125510.82              1          1   \n",
       "\n",
       "   IsActiveMember  EstimatedSalary  Exited  \n",
       "0               1        101348.88       1  \n",
       "1               1        112542.58       0  \n",
       "2               0        113931.57       1  \n",
       "3               0         93826.63       0  \n",
       "4               1         79084.10       0  "
      ]
     },
     "execution_count": 48,
     "metadata": {},
     "output_type": "execute_result"
    }
   ],
   "source": [
    "cols_to_drop = ['RowNumber','Surname', 'Geography', 'Gender', 'CustomerId']\n",
    "\n",
    "df3 = df3.drop(columns=cols_to_drop)\n",
    "df3.head()"
   ]
  },
  {
   "cell_type": "markdown",
   "metadata": {},
   "source": [
    "# 4.0 Análise Exploratória de Dados"
   ]
  },
  {
   "cell_type": "code",
   "execution_count": 49,
   "metadata": {},
   "outputs": [],
   "source": [
    "df4 = df3.copy()"
   ]
  },
  {
   "cell_type": "markdown",
   "metadata": {},
   "source": [
    "# 5.0 Data Preparation"
   ]
  },
  {
   "cell_type": "code",
   "execution_count": 50,
   "metadata": {},
   "outputs": [],
   "source": [
    "df5 = df4.copy()"
   ]
  },
  {
   "cell_type": "markdown",
   "metadata": {},
   "source": [
    "# 6.0 Machine Learning Model"
   ]
  },
  {
   "cell_type": "code",
   "execution_count": 51,
   "metadata": {},
   "outputs": [],
   "source": [
    "df6 = df5.copy()"
   ]
  },
  {
   "cell_type": "code",
   "execution_count": 52,
   "metadata": {},
   "outputs": [],
   "source": [
    "X = df6.drop('Exited', axis=1)\n",
    "y = df6['Exited']"
   ]
  },
  {
   "cell_type": "code",
   "execution_count": 53,
   "metadata": {},
   "outputs": [],
   "source": [
    "X_train, X_test, y_train, y_test = train_test_split(X, y, random_state=42)"
   ]
  },
  {
   "cell_type": "code",
   "execution_count": 54,
   "metadata": {},
   "outputs": [
    {
     "data": {
      "text/html": [
       "<div>\n",
       "<style scoped>\n",
       "    .dataframe tbody tr th:only-of-type {\n",
       "        vertical-align: middle;\n",
       "    }\n",
       "\n",
       "    .dataframe tbody tr th {\n",
       "        vertical-align: top;\n",
       "    }\n",
       "\n",
       "    .dataframe thead th {\n",
       "        text-align: right;\n",
       "    }\n",
       "</style>\n",
       "<table border=\"1\" class=\"dataframe\">\n",
       "  <thead>\n",
       "    <tr style=\"text-align: right;\">\n",
       "      <th></th>\n",
       "      <th>CreditScore</th>\n",
       "      <th>Age</th>\n",
       "      <th>Tenure</th>\n",
       "      <th>Balance</th>\n",
       "      <th>NumOfProducts</th>\n",
       "      <th>HasCrCard</th>\n",
       "      <th>IsActiveMember</th>\n",
       "      <th>EstimatedSalary</th>\n",
       "    </tr>\n",
       "  </thead>\n",
       "  <tbody>\n",
       "    <tr>\n",
       "      <th>6252</th>\n",
       "      <td>596</td>\n",
       "      <td>32</td>\n",
       "      <td>3</td>\n",
       "      <td>96709.07</td>\n",
       "      <td>2</td>\n",
       "      <td>0</td>\n",
       "      <td>0</td>\n",
       "      <td>41788.37</td>\n",
       "    </tr>\n",
       "    <tr>\n",
       "      <th>4684</th>\n",
       "      <td>623</td>\n",
       "      <td>43</td>\n",
       "      <td>1</td>\n",
       "      <td>0.00</td>\n",
       "      <td>2</td>\n",
       "      <td>1</td>\n",
       "      <td>1</td>\n",
       "      <td>146379.30</td>\n",
       "    </tr>\n",
       "    <tr>\n",
       "      <th>1731</th>\n",
       "      <td>601</td>\n",
       "      <td>44</td>\n",
       "      <td>4</td>\n",
       "      <td>0.00</td>\n",
       "      <td>2</td>\n",
       "      <td>1</td>\n",
       "      <td>0</td>\n",
       "      <td>58561.31</td>\n",
       "    </tr>\n",
       "    <tr>\n",
       "      <th>4742</th>\n",
       "      <td>506</td>\n",
       "      <td>59</td>\n",
       "      <td>8</td>\n",
       "      <td>119152.10</td>\n",
       "      <td>2</td>\n",
       "      <td>1</td>\n",
       "      <td>1</td>\n",
       "      <td>170679.74</td>\n",
       "    </tr>\n",
       "    <tr>\n",
       "      <th>4521</th>\n",
       "      <td>560</td>\n",
       "      <td>27</td>\n",
       "      <td>7</td>\n",
       "      <td>124995.98</td>\n",
       "      <td>1</td>\n",
       "      <td>1</td>\n",
       "      <td>1</td>\n",
       "      <td>114669.79</td>\n",
       "    </tr>\n",
       "    <tr>\n",
       "      <th>...</th>\n",
       "      <td>...</td>\n",
       "      <td>...</td>\n",
       "      <td>...</td>\n",
       "      <td>...</td>\n",
       "      <td>...</td>\n",
       "      <td>...</td>\n",
       "      <td>...</td>\n",
       "      <td>...</td>\n",
       "    </tr>\n",
       "    <tr>\n",
       "      <th>4862</th>\n",
       "      <td>645</td>\n",
       "      <td>55</td>\n",
       "      <td>1</td>\n",
       "      <td>133676.65</td>\n",
       "      <td>1</td>\n",
       "      <td>0</td>\n",
       "      <td>1</td>\n",
       "      <td>17095.49</td>\n",
       "    </tr>\n",
       "    <tr>\n",
       "      <th>7025</th>\n",
       "      <td>569</td>\n",
       "      <td>51</td>\n",
       "      <td>3</td>\n",
       "      <td>0.00</td>\n",
       "      <td>3</td>\n",
       "      <td>1</td>\n",
       "      <td>0</td>\n",
       "      <td>75084.96</td>\n",
       "    </tr>\n",
       "    <tr>\n",
       "      <th>7647</th>\n",
       "      <td>768</td>\n",
       "      <td>25</td>\n",
       "      <td>0</td>\n",
       "      <td>78396.08</td>\n",
       "      <td>1</td>\n",
       "      <td>1</td>\n",
       "      <td>1</td>\n",
       "      <td>8316.19</td>\n",
       "    </tr>\n",
       "    <tr>\n",
       "      <th>7161</th>\n",
       "      <td>690</td>\n",
       "      <td>36</td>\n",
       "      <td>6</td>\n",
       "      <td>110480.48</td>\n",
       "      <td>1</td>\n",
       "      <td>0</td>\n",
       "      <td>0</td>\n",
       "      <td>81292.33</td>\n",
       "    </tr>\n",
       "    <tr>\n",
       "      <th>73</th>\n",
       "      <td>604</td>\n",
       "      <td>25</td>\n",
       "      <td>5</td>\n",
       "      <td>157780.84</td>\n",
       "      <td>2</td>\n",
       "      <td>1</td>\n",
       "      <td>1</td>\n",
       "      <td>58426.81</td>\n",
       "    </tr>\n",
       "  </tbody>\n",
       "</table>\n",
       "<p>2500 rows × 8 columns</p>\n",
       "</div>"
      ],
      "text/plain": [
       "      CreditScore  Age  Tenure   Balance  NumOfProducts  HasCrCard  \\\n",
       "6252          596   32       3  96709.07              2          0   \n",
       "4684          623   43       1      0.00              2          1   \n",
       "1731          601   44       4      0.00              2          1   \n",
       "4742          506   59       8 119152.10              2          1   \n",
       "4521          560   27       7 124995.98              1          1   \n",
       "...           ...  ...     ...       ...            ...        ...   \n",
       "4862          645   55       1 133676.65              1          0   \n",
       "7025          569   51       3      0.00              3          1   \n",
       "7647          768   25       0  78396.08              1          1   \n",
       "7161          690   36       6 110480.48              1          0   \n",
       "73            604   25       5 157780.84              2          1   \n",
       "\n",
       "      IsActiveMember  EstimatedSalary  \n",
       "6252               0         41788.37  \n",
       "4684               1        146379.30  \n",
       "1731               0         58561.31  \n",
       "4742               1        170679.74  \n",
       "4521               1        114669.79  \n",
       "...              ...              ...  \n",
       "4862               1         17095.49  \n",
       "7025               0         75084.96  \n",
       "7647               1          8316.19  \n",
       "7161               0         81292.33  \n",
       "73                 1         58426.81  \n",
       "\n",
       "[2500 rows x 8 columns]"
      ]
     },
     "execution_count": 54,
     "metadata": {},
     "output_type": "execute_result"
    }
   ],
   "source": [
    "X_test"
   ]
  },
  {
   "cell_type": "markdown",
   "metadata": {},
   "source": [
    "## 6.1 Random Forest"
   ]
  },
  {
   "cell_type": "code",
   "execution_count": 55,
   "metadata": {},
   "outputs": [
    {
     "name": "stdout",
     "output_type": "stream",
     "text": [
      "Random Forest - Métricas treino: {'precision': 1.0, 'recall': 0.9987012987012988, 'accuracy': 0.9997333333333334, 'f1': 0.9993502274204028}\n",
      "Random Forest - Métricas teste: {'precision': 0.7422680412371134, 'recall': 0.4346076458752515, 'accuracy': 0.8576, 'f1': 0.5482233502538071}\n"
     ]
    }
   ],
   "source": [
    "rf = RandomForestClassifier(random_state=42)\n",
    "result_rf = train_and_evaluate(rf, X_train, y_train, X_test, y_test)\n",
    "print(\"Random Forest - Métricas treino:\", result_rf[\"metrics_train\"])\n",
    "print(\"Random Forest - Métricas teste:\", result_rf[\"metrics_test\"])\n"
   ]
  },
  {
   "cell_type": "code",
   "execution_count": 56,
   "metadata": {},
   "outputs": [
    {
     "data": {
      "image/png": "[encoded data removed]",
      "text/plain": [
       "<Figure size 640x480 with 2 Axes>"
      ]
     },
     "metadata": {},
     "output_type": "display_data"
    }
   ],
   "source": [
    "plot_confusion_matrix(y_test, result_rf[\"y_pred_test\"], model_name=\"Random Forest\")"
   ]
  },
  {
   "cell_type": "markdown",
   "metadata": {},
   "source": [
    "## 6.2 Logistic Regression"
   ]
  },
  {
   "cell_type": "code",
   "execution_count": 57,
   "metadata": {},
   "outputs": [
    {
     "name": "stdout",
     "output_type": "stream",
     "text": [
      "Logistic Regression - Métricas treino: {'precision': 0.6039119804400978, 'recall': 0.1603896103896104, 'accuracy': 0.806, 'f1': 0.2534633145202668}\n",
      "Logistic Regression - Métricas teste: {'precision': 0.5407407407407407, 'recall': 0.14688128772635814, 'accuracy': 0.8056, 'f1': 0.2310126582278481}\n"
     ]
    },
    {
     "name": "stderr",
     "output_type": "stream",
     "text": [
      "c:\\Users\\thales.pinto\\Documents\\projetos\\pessoal\\churn\\env\\Lib\\site-packages\\sklearn\\linear_model\\_logistic.py:470: ConvergenceWarning: lbfgs failed to converge after 1000 iteration(s) (status=1):\n",
      "STOP: TOTAL NO. OF ITERATIONS REACHED LIMIT\n",
      "\n",
      "Increase the number of iterations to improve the convergence (max_iter=1000).\n",
      "You might also want to scale the data as shown in:\n",
      "    https://scikit-learn.org/stable/modules/preprocessing.html\n",
      "Please also refer to the documentation for alternative solver options:\n",
      "    https://scikit-learn.org/stable/modules/linear_model.html#logistic-regression\n",
      "  n_iter_i = _check_optimize_result(\n"
     ]
    }
   ],
   "source": [
    "lr = LogisticRegression(random_state=42, max_iter=1000)\n",
    "result_lr = train_and_evaluate(lr, X_train, y_train, X_test, y_test)\n",
    "print(\"Logistic Regression - Métricas treino:\", result_lr[\"metrics_train\"])\n",
    "print(\"Logistic Regression - Métricas teste:\", result_lr[\"metrics_test\"])"
   ]
  },
  {
   "cell_type": "code",
   "execution_count": 58,
   "metadata": {},
   "outputs": [
    {
     "data": {
      "image/png": "[encoded data removed]",
      "text/plain": [
       "<Figure size 640x480 with 2 Axes>"
      ]
     },
     "metadata": {},
     "output_type": "display_data"
    }
   ],
   "source": [
    "plot_confusion_matrix(y_test, result_lr[\"y_pred_test\"], model_name=\"Logistic Regression\")"
   ]
  },
  {
   "cell_type": "code",
   "execution_count": null,
   "metadata": {},
   "outputs": [
    {
     "data": {
      "text/plain": [
       "'LogisticRegression'"
      ]
     },
     "execution_count": 28,
     "metadata": {},
     "output_type": "execute_result"
    }
   ],
   "source": []
  },
  {
   "cell_type": "markdown",
   "metadata": {},
   "source": [
    "# Tracking de Modelos"
   ]
  },
  {
   "cell_type": "code",
   "execution_count": 29,
   "metadata": {},
   "outputs": [
    {
     "name": "stdout",
     "output_type": "stream",
     "text": [
      "Tracking done for RandomForestClassifier_Ciclo1\n",
      "🏃 View run RandomForestClassifier_Ciclo1 at: http://127.0.0.1:5000/#/experiments/207252348785056863/runs/e36c6ad36996481788fa679f21be798d\n",
      "🧪 View experiment at: http://127.0.0.1:5000/#/experiments/207252348785056863\n",
      "Tracking done for LogisticRegression_Ciclo1\n",
      "🏃 View run LogisticRegression_Ciclo1 at: http://127.0.0.1:5000/#/experiments/207252348785056863/runs/79a9dcae6aee4c1c803a3a14467b7d47\n",
      "🧪 View experiment at: http://127.0.0.1:5000/#/experiments/207252348785056863\n"
     ]
    }
   ],
   "source": [
    "track_model(result_rf, model_name=f\"{type(rf).__name__}_{ciclo}\")\n",
    "\n",
    "track_model(result_lr, model_name=f\"{type(lr).__name__}_{ciclo}\")"
   ]
  },
  {
   "cell_type": "code",
   "execution_count": null,
   "metadata": {},
   "outputs": [],
   "source": []
  },
  {
   "cell_type": "code",
   "execution_count": null,
   "metadata": {},
   "outputs": [],
   "source": []
  },
  {
   "cell_type": "code",
   "execution_count": null,
   "metadata": {},
   "outputs": [],
   "source": []
  },
  {
   "cell_type": "code",
   "execution_count": null,
   "metadata": {},
   "outputs": [],
   "source": []
  },
  {
   "cell_type": "code",
   "execution_count": null,
   "metadata": {},
   "outputs": [],
   "source": []
  },
  {
   "cell_type": "code",
   "execution_count": null,
   "metadata": {},
   "outputs": [],
   "source": []
  }
 ],
 "metadata": {
  "kernelspec": {
   "display_name": "env",
   "language": "python",
   "name": "python3"
  },
  "language_info": {
   "codemirror_mode": {
    "name": "ipython",
    "version": 3
   },
   "file_extension": ".py",
   "mimetype": "text/x-python",
   "name": "python",
   "nbconvert_exporter": "python",
   "pygments_lexer": "ipython3",
   "version": "3.11.9"
  }
 },
 "nbformat": 4,
 "nbformat_minor": 2
}
